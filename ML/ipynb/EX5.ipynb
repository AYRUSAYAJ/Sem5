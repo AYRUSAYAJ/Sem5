{
 "cells": [
  {
   "cell_type": "code",
   "execution_count": 2,
   "metadata": {},
   "outputs": [],
   "source": [
    "import pandas as pd\n",
    "import numpy as np\n",
    "from sklearn.model_selection import train_test_split\n",
    "from sklearn.ensemble import RandomForestClassifier\n",
    "from sklearn.utils import resample\n",
    "from sklearn.preprocessing import LabelEncoder, StandardScaler\n",
    "from sklearn.ensemble import BaggingClassifier\n",
    "from sklearn.neighbors import KNeighborsClassifier\n",
    "from sklearn.metrics import accuracy_score"
   ]
  },
  {
   "cell_type": "code",
   "execution_count": 3,
   "metadata": {},
   "outputs": [],
   "source": [
    "df = pd.read_csv('../titanic.csv')\n",
    "df['Age'].fillna(df['Age'].median(), inplace=True)\n",
    "df['Embarked'].fillna(df['Embarked'].mode()[0], inplace=True)\n",
    "df.drop(columns=['PassengerId', 'Name', 'Ticket', 'Cabin'], inplace=True)\n",
    "label_encoder = LabelEncoder()\n",
    "df['Sex'] = label_encoder.fit_transform(df['Sex'])\n",
    "df['Embarked'] = label_encoder.fit_transform(df['Embarked'])\n",
    "X = df.drop(columns=['Survived'])\n",
    "y = df['Survived']\n",
    "X_train, X_test, y_train, y_test = train_test_split(X, y, test_size=0.2, random_state=42)\n",
    "scaler = StandardScaler()\n",
    "X_train = scaler.fit_transform(X_train)\n",
    "X_test = scaler.transform(X_test)\n",
    "\n",
    "X_train, X_test, y_train, y_test = train_test_split(X, y, test_size=0.3, random_state=42)"
   ]
  },
  {
   "cell_type": "code",
   "execution_count": 4,
   "metadata": {},
   "outputs": [
    {
     "name": "stdout",
     "output_type": "stream",
     "text": [
      "Bagging with KNN Accuracy: 0.69\n"
     ]
    }
   ],
   "source": [
    "knn = KNeighborsClassifier(n_neighbors=5)\n",
    "bagging_knn = BaggingClassifier(estimator=knn, n_estimators=10, random_state=42)\n",
    "bagging_knn.fit(X_train, y_train)\n",
    "y_pred_knn = bagging_knn.predict(X_test)\n",
    "accuracy_knn = accuracy_score(y_test, y_pred_knn)\n",
    "print(f'Bagging with KNN Accuracy: {accuracy_knn:.2f}')"
   ]
  },
  {
   "cell_type": "code",
   "execution_count": 11,
   "metadata": {},
   "outputs": [
    {
     "name": "stdout",
     "output_type": "stream",
     "text": [
      "Bagging with randomforest Accuracy: 0.81\n"
     ]
    }
   ],
   "source": [
    "randomforest = RandomForestClassifier(n_estimators=100)\n",
    "bagging_randomforest = BaggingClassifier(estimator=randomforest, n_estimators=10, random_state=42)\n",
    "bagging_randomforest.fit(X_train, y_train)\n",
    "y_pred_randomforest = bagging_randomforest.predict(X_test)\n",
    "accuracy_randomforest = accuracy_score(y_test, y_pred_randomforest)\n",
    "print(f'Bagging with randomforest Accuracy: {accuracy_randomforest:.2f}')"
   ]
  },
  {
   "cell_type": "code",
   "execution_count": 8,
   "metadata": {},
   "outputs": [
    {
     "data": {
      "text/plain": [
       "array([0, 0, 0, 0, 0, 1, 1, 0, 1, 1])"
      ]
     },
     "execution_count": 8,
     "metadata": {},
     "output_type": "execute_result"
    }
   ],
   "source": [
    "n_estimators = 60\n",
    "\n",
    "estimators = []\n",
    "\n",
    "for _ in range(n_estimators):\n",
    "    X_resampled, y_resampled = resample(X_train, y_train, random_state=42)\n",
    "    estimator = KNeighborsClassifier(n_neighbors=3)\n",
    "    estimator.fit(X_resampled, y_resampled)\n",
    "    estimators.append(estimator)\n",
    "\n",
    "predictions = np.zeros((X_test.shape[0], n_estimators))\n",
    "\n",
    "for i, estimator in enumerate(estimators):\n",
    "    predictions[:, i] = estimator.predict(X_test)\n",
    "\n",
    "final_predictions = (np.sum(predictions, axis=1) >= (n_estimators / 2)).astype(int)\n",
    "\n",
    "final_predictions[:10]"
   ]
  }
 ],
 "metadata": {
  "kernelspec": {
   "display_name": "Python 3",
   "language": "python",
   "name": "python3"
  },
  "language_info": {
   "codemirror_mode": {
    "name": "ipython",
    "version": 3
   },
   "file_extension": ".py",
   "mimetype": "text/x-python",
   "name": "python",
   "nbconvert_exporter": "python",
   "pygments_lexer": "ipython3",
   "version": "3.11.5"
  }
 },
 "nbformat": 4,
 "nbformat_minor": 2
}
