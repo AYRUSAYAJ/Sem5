{
 "cells": [
  {
   "cell_type": "code",
   "execution_count": null,
   "metadata": {},
   "outputs": [],
   "source": [
    "import pandas as pd\n",
    "import numpy as np\n",
    "from sklearn.model_selection import train_test_split\n",
    "from sklearn.tree import DecisionTreeClassifier\n",
    "from sklearn.metrics import accuracy_score"
   ]
  },
  {
   "cell_type": "code",
   "execution_count": null,
   "metadata": {},
   "outputs": [],
   "source": [
    "df = pd.read_csv(\"../diabetes.csv\")\n",
    "\n",
    "x = df.drop('Outcome', axis=1)\n",
    "y = df['Outcome']\n",
    "\n",
    "x_train, x_test, y_train, y_test = train_test_split(x, y, test_size=0.2, random_state=42)"
   ]
  },
  {
   "cell_type": "code",
   "execution_count": null,
   "metadata": {},
   "outputs": [],
   "source": [
    "dt = DecisionTreeClassifier(random_state=42)\n",
    "dt.fit(x_train, y_train)\n",
    "y_pred = dt.predict(x_test)"
   ]
  },
  {
   "cell_type": "code",
   "execution_count": null,
   "metadata": {},
   "outputs": [],
   "source": [
    "accuracy_before_cv = accuracy_score(y_test, y_pred)\n",
    "print(f'Accuracy before cross-validation: {accuracy_before_cv}')"
   ]
  },
  {
   "cell_type": "code",
   "execution_count": null,
   "metadata": {},
   "outputs": [],
   "source": [
    "n_splits = 5\n",
    "\n",
    "indices = np.arange(len(x))\n",
    "\n",
    "fold_indices = np.array_split(indices, n_splits)\n",
    "\n",
    "cv_scores = []\n",
    "for i in range(n_splits):\n",
    "\n",
    "    test_indices = fold_indices[i]\n",
    "    train_indices = np.concatenate([fold_indices[j] for j in range(n_splits) if j != i])\n",
    "    \n",
    "    x_train, x_test = x.iloc[train_indices], x.iloc[test_indices]\n",
    "    y_train, y_test = y.iloc[train_indices], y.iloc[test_indices]\n",
    "    \n",
    "    dt.fit(x_train, y_train)\n",
    "    \n",
    "    y_pred = dt.predict(x_test)\n",
    "    accuracy = accuracy_score(y_test, y_pred)\n",
    "    cv_scores.append(accuracy)\n",
    "\n",
    "accuracy_after_cv = np.mean(cv_scores)\n",
    "print(f'Accuracy after manual cross-validation: {accuracy_after_cv}')"
   ]
  }
 ],
 "metadata": {
  "language_info": {
   "name": "python"
  }
 },
 "nbformat": 4,
 "nbformat_minor": 2
}
